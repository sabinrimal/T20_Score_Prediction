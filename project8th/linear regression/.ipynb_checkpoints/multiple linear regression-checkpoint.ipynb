{
 "cells": [
  {
   "cell_type": "code",
   "execution_count": 1,
   "id": "40f332f8",
   "metadata": {},
   "outputs": [],
   "source": [
    "import numpy as np\n",
    "import pandas as pd\n",
    "import matplotlib.pyplot as plt\n",
    "from sklearn.model_selection import train_test_split\n",
    "from sklearn.metrics import r2_score\n",
    "%matplotlib inline"
   ]
  },
  {
   "cell_type": "code",
   "execution_count": 2,
   "id": "3f243e8c",
   "metadata": {},
   "outputs": [],
   "source": [
    "df = pd.read_csv('t20feature.csv')"
   ]
  },
  {
   "cell_type": "code",
   "execution_count": 3,
   "id": "58db4d70",
   "metadata": {},
   "outputs": [
    {
     "data": {
      "text/html": [
       "<div>\n",
       "<style scoped>\n",
       "    .dataframe tbody tr th:only-of-type {\n",
       "        vertical-align: middle;\n",
       "    }\n",
       "\n",
       "    .dataframe tbody tr th {\n",
       "        vertical-align: top;\n",
       "    }\n",
       "\n",
       "    .dataframe thead th {\n",
       "        text-align: right;\n",
       "    }\n",
       "</style>\n",
       "<table border=\"1\" class=\"dataframe\">\n",
       "  <thead>\n",
       "    <tr style=\"text-align: right;\">\n",
       "      <th></th>\n",
       "      <th>Unnamed: 0</th>\n",
       "      <th>match_id</th>\n",
       "      <th>batting_team</th>\n",
       "      <th>bowling_team</th>\n",
       "      <th>city</th>\n",
       "      <th>current_score</th>\n",
       "      <th>balls_left</th>\n",
       "      <th>wickets_left</th>\n",
       "      <th>crr</th>\n",
       "      <th>last_five</th>\n",
       "      <th>runs_x</th>\n",
       "    </tr>\n",
       "  </thead>\n",
       "  <tbody>\n",
       "    <tr>\n",
       "      <th>0</th>\n",
       "      <td>29</td>\n",
       "      <td>2</td>\n",
       "      <td>Australia</td>\n",
       "      <td>Sri Lanka</td>\n",
       "      <td>Melbourne</td>\n",
       "      <td>43</td>\n",
       "      <td>90</td>\n",
       "      <td>10</td>\n",
       "      <td>8.600000</td>\n",
       "      <td>43.0</td>\n",
       "      <td>168</td>\n",
       "    </tr>\n",
       "    <tr>\n",
       "      <th>1</th>\n",
       "      <td>30</td>\n",
       "      <td>2</td>\n",
       "      <td>Australia</td>\n",
       "      <td>Sri Lanka</td>\n",
       "      <td>Melbourne</td>\n",
       "      <td>44</td>\n",
       "      <td>89</td>\n",
       "      <td>10</td>\n",
       "      <td>8.516129</td>\n",
       "      <td>44.0</td>\n",
       "      <td>168</td>\n",
       "    </tr>\n",
       "    <tr>\n",
       "      <th>2</th>\n",
       "      <td>31</td>\n",
       "      <td>2</td>\n",
       "      <td>Australia</td>\n",
       "      <td>Sri Lanka</td>\n",
       "      <td>Melbourne</td>\n",
       "      <td>45</td>\n",
       "      <td>88</td>\n",
       "      <td>10</td>\n",
       "      <td>8.437500</td>\n",
       "      <td>45.0</td>\n",
       "      <td>168</td>\n",
       "    </tr>\n",
       "    <tr>\n",
       "      <th>3</th>\n",
       "      <td>32</td>\n",
       "      <td>2</td>\n",
       "      <td>Australia</td>\n",
       "      <td>Sri Lanka</td>\n",
       "      <td>Melbourne</td>\n",
       "      <td>45</td>\n",
       "      <td>87</td>\n",
       "      <td>10</td>\n",
       "      <td>8.181818</td>\n",
       "      <td>44.0</td>\n",
       "      <td>168</td>\n",
       "    </tr>\n",
       "    <tr>\n",
       "      <th>4</th>\n",
       "      <td>33</td>\n",
       "      <td>2</td>\n",
       "      <td>Australia</td>\n",
       "      <td>Sri Lanka</td>\n",
       "      <td>Melbourne</td>\n",
       "      <td>45</td>\n",
       "      <td>86</td>\n",
       "      <td>10</td>\n",
       "      <td>7.941176</td>\n",
       "      <td>42.0</td>\n",
       "      <td>168</td>\n",
       "    </tr>\n",
       "  </tbody>\n",
       "</table>\n",
       "</div>"
      ],
      "text/plain": [
       "   Unnamed: 0  match_id batting_team bowling_team       city  current_score  \\\n",
       "0          29         2    Australia    Sri Lanka  Melbourne             43   \n",
       "1          30         2    Australia    Sri Lanka  Melbourne             44   \n",
       "2          31         2    Australia    Sri Lanka  Melbourne             45   \n",
       "3          32         2    Australia    Sri Lanka  Melbourne             45   \n",
       "4          33         2    Australia    Sri Lanka  Melbourne             45   \n",
       "\n",
       "   balls_left  wickets_left       crr  last_five  runs_x  \n",
       "0          90            10  8.600000       43.0     168  \n",
       "1          89            10  8.516129       44.0     168  \n",
       "2          88            10  8.437500       45.0     168  \n",
       "3          87            10  8.181818       44.0     168  \n",
       "4          86            10  7.941176       42.0     168  "
      ]
     },
     "execution_count": 3,
     "metadata": {},
     "output_type": "execute_result"
    }
   ],
   "source": [
    "df.head()"
   ]
  },
  {
   "cell_type": "code",
   "execution_count": 4,
   "id": "25a10c37",
   "metadata": {},
   "outputs": [
    {
     "name": "stdout",
     "output_type": "stream",
     "text": [
      "263\n",
      "55\n",
      "180\n"
     ]
    }
   ],
   "source": [
    "print(df['runs_x'].max())\n",
    "print(df['runs_x'].min())\n",
    "print(round(int(263-55) * 0.6 + 55))"
   ]
  },
  {
   "cell_type": "code",
   "execution_count": 5,
   "id": "0e145361",
   "metadata": {},
   "outputs": [],
   "source": [
    "df = df.drop(columns=['Unnamed: 0','match_id','batting_team','bowling_team','city'],axis=1)"
   ]
  },
  {
   "cell_type": "code",
   "execution_count": 6,
   "id": "e6a13a31",
   "metadata": {},
   "outputs": [],
   "source": [
    "cp = df.copy()"
   ]
  },
  {
   "cell_type": "code",
   "execution_count": 7,
   "id": "74eb37b8",
   "metadata": {
    "scrolled": true
   },
   "outputs": [
    {
     "data": {
      "text/html": [
       "<div>\n",
       "<style scoped>\n",
       "    .dataframe tbody tr th:only-of-type {\n",
       "        vertical-align: middle;\n",
       "    }\n",
       "\n",
       "    .dataframe tbody tr th {\n",
       "        vertical-align: top;\n",
       "    }\n",
       "\n",
       "    .dataframe thead th {\n",
       "        text-align: right;\n",
       "    }\n",
       "</style>\n",
       "<table border=\"1\" class=\"dataframe\">\n",
       "  <thead>\n",
       "    <tr style=\"text-align: right;\">\n",
       "      <th></th>\n",
       "      <th>current_score</th>\n",
       "      <th>balls_left</th>\n",
       "      <th>wickets_left</th>\n",
       "      <th>crr</th>\n",
       "      <th>last_five</th>\n",
       "      <th>runs_x</th>\n",
       "    </tr>\n",
       "  </thead>\n",
       "  <tbody>\n",
       "    <tr>\n",
       "      <th>0</th>\n",
       "      <td>43</td>\n",
       "      <td>90</td>\n",
       "      <td>10</td>\n",
       "      <td>8.600000</td>\n",
       "      <td>43.0</td>\n",
       "      <td>168</td>\n",
       "    </tr>\n",
       "    <tr>\n",
       "      <th>1</th>\n",
       "      <td>44</td>\n",
       "      <td>89</td>\n",
       "      <td>10</td>\n",
       "      <td>8.516129</td>\n",
       "      <td>44.0</td>\n",
       "      <td>168</td>\n",
       "    </tr>\n",
       "    <tr>\n",
       "      <th>2</th>\n",
       "      <td>45</td>\n",
       "      <td>88</td>\n",
       "      <td>10</td>\n",
       "      <td>8.437500</td>\n",
       "      <td>45.0</td>\n",
       "      <td>168</td>\n",
       "    </tr>\n",
       "    <tr>\n",
       "      <th>3</th>\n",
       "      <td>45</td>\n",
       "      <td>87</td>\n",
       "      <td>10</td>\n",
       "      <td>8.181818</td>\n",
       "      <td>44.0</td>\n",
       "      <td>168</td>\n",
       "    </tr>\n",
       "    <tr>\n",
       "      <th>4</th>\n",
       "      <td>45</td>\n",
       "      <td>86</td>\n",
       "      <td>10</td>\n",
       "      <td>7.941176</td>\n",
       "      <td>42.0</td>\n",
       "      <td>168</td>\n",
       "    </tr>\n",
       "  </tbody>\n",
       "</table>\n",
       "</div>"
      ],
      "text/plain": [
       "   current_score  balls_left  wickets_left       crr  last_five  runs_x\n",
       "0             43          90            10  8.600000       43.0     168\n",
       "1             44          89            10  8.516129       44.0     168\n",
       "2             45          88            10  8.437500       45.0     168\n",
       "3             45          87            10  8.181818       44.0     168\n",
       "4             45          86            10  7.941176       42.0     168"
      ]
     },
     "execution_count": 7,
     "metadata": {},
     "output_type": "execute_result"
    }
   ],
   "source": [
    "cp.head()"
   ]
  },
  {
   "cell_type": "code",
   "execution_count": 8,
   "id": "51ed5632",
   "metadata": {},
   "outputs": [],
   "source": [
    "def feature_scalling(dataframe):\n",
    "    for column in dataframe.columns:\n",
    "        dataframe[column] = (dataframe[column] - dataframe[column].min()) / (dataframe[column].max() - dataframe[column].min())"
   ]
  },
  {
   "cell_type": "code",
   "execution_count": 9,
   "id": "01a26aee",
   "metadata": {},
   "outputs": [],
   "source": [
    "feature_scalling(cp)"
   ]
  },
  {
   "cell_type": "code",
   "execution_count": 10,
   "id": "3de1d4ed",
   "metadata": {},
   "outputs": [
    {
     "data": {
      "text/html": [
       "<div>\n",
       "<style scoped>\n",
       "    .dataframe tbody tr th:only-of-type {\n",
       "        vertical-align: middle;\n",
       "    }\n",
       "\n",
       "    .dataframe tbody tr th {\n",
       "        vertical-align: top;\n",
       "    }\n",
       "\n",
       "    .dataframe thead th {\n",
       "        text-align: right;\n",
       "    }\n",
       "</style>\n",
       "<table border=\"1\" class=\"dataframe\">\n",
       "  <thead>\n",
       "    <tr style=\"text-align: right;\">\n",
       "      <th></th>\n",
       "      <th>current_score</th>\n",
       "      <th>balls_left</th>\n",
       "      <th>wickets_left</th>\n",
       "      <th>crr</th>\n",
       "      <th>last_five</th>\n",
       "      <th>runs_x</th>\n",
       "    </tr>\n",
       "  </thead>\n",
       "  <tbody>\n",
       "    <tr>\n",
       "      <th>0</th>\n",
       "      <td>0.137255</td>\n",
       "      <td>0.918367</td>\n",
       "      <td>1.0</td>\n",
       "      <td>0.466667</td>\n",
       "      <td>0.432099</td>\n",
       "      <td>0.543269</td>\n",
       "    </tr>\n",
       "    <tr>\n",
       "      <th>1</th>\n",
       "      <td>0.141176</td>\n",
       "      <td>0.908163</td>\n",
       "      <td>1.0</td>\n",
       "      <td>0.461075</td>\n",
       "      <td>0.444444</td>\n",
       "      <td>0.543269</td>\n",
       "    </tr>\n",
       "    <tr>\n",
       "      <th>2</th>\n",
       "      <td>0.145098</td>\n",
       "      <td>0.897959</td>\n",
       "      <td>1.0</td>\n",
       "      <td>0.455833</td>\n",
       "      <td>0.456790</td>\n",
       "      <td>0.543269</td>\n",
       "    </tr>\n",
       "    <tr>\n",
       "      <th>3</th>\n",
       "      <td>0.145098</td>\n",
       "      <td>0.887755</td>\n",
       "      <td>1.0</td>\n",
       "      <td>0.438788</td>\n",
       "      <td>0.444444</td>\n",
       "      <td>0.543269</td>\n",
       "    </tr>\n",
       "    <tr>\n",
       "      <th>4</th>\n",
       "      <td>0.145098</td>\n",
       "      <td>0.877551</td>\n",
       "      <td>1.0</td>\n",
       "      <td>0.422745</td>\n",
       "      <td>0.419753</td>\n",
       "      <td>0.543269</td>\n",
       "    </tr>\n",
       "  </tbody>\n",
       "</table>\n",
       "</div>"
      ],
      "text/plain": [
       "   current_score  balls_left  wickets_left       crr  last_five    runs_x\n",
       "0       0.137255    0.918367           1.0  0.466667   0.432099  0.543269\n",
       "1       0.141176    0.908163           1.0  0.461075   0.444444  0.543269\n",
       "2       0.145098    0.897959           1.0  0.455833   0.456790  0.543269\n",
       "3       0.145098    0.887755           1.0  0.438788   0.444444  0.543269\n",
       "4       0.145098    0.877551           1.0  0.422745   0.419753  0.543269"
      ]
     },
     "execution_count": 10,
     "metadata": {},
     "output_type": "execute_result"
    }
   ],
   "source": [
    "cp.head()"
   ]
  },
  {
   "cell_type": "code",
   "execution_count": 121,
   "id": "35efe898",
   "metadata": {},
   "outputs": [],
   "source": [
    "cp.to_csv('normalizedt20.csv')"
   ]
  },
  {
   "cell_type": "code",
   "execution_count": 11,
   "id": "5b0fc63d",
   "metadata": {},
   "outputs": [],
   "source": [
    "train_data = cp.values\n",
    "y = train_data[:,-1].reshape(train_data.shape[0],1)\n",
    "X = train_data[:,:-1]"
   ]
  },
  {
   "cell_type": "code",
   "execution_count": 12,
   "id": "206fe6ba",
   "metadata": {},
   "outputs": [],
   "source": [
    "X_train, X_test, y_train, y_test = train_test_split(X, y, test_size=0.2, random_state=42)"
   ]
  },
  {
   "cell_type": "code",
   "execution_count": 13,
   "id": "ba3bec9a",
   "metadata": {},
   "outputs": [
    {
     "name": "stdout",
     "output_type": "stream",
     "text": [
      "Shape of X_train : (37466, 5)\n",
      "Shape of Y_train : (37466, 1)\n",
      "Shape of X_test : (9367, 5)\n",
      "Shape of y_test : (9367, 1)\n"
     ]
    }
   ],
   "source": [
    "print(\"Shape of X_train :\", X_train.shape)\n",
    "print(\"Shape of Y_train :\", y_train.shape)\n",
    "print(\"Shape of X_test :\", X_test.shape)\n",
    "print(\"Shape of y_test :\",y_test.shape)"
   ]
  },
  {
   "cell_type": "code",
   "execution_count": 14,
   "id": "237973f9",
   "metadata": {},
   "outputs": [],
   "source": [
    "X_train = np.vstack((np.ones((X_train.shape[0], )), X_train.T)).T\n",
    "X_test = np.vstack((np.ones((X_test.shape[0], )), X_test.T)).T"
   ]
  },
  {
   "cell_type": "code",
   "execution_count": 15,
   "id": "871f2dc4",
   "metadata": {},
   "outputs": [
    {
     "name": "stdout",
     "output_type": "stream",
     "text": [
      "Shape of X_train : (37466, 6)\n",
      "Shape of Y_train : (37466, 1)\n",
      "Shape of X_test : (9367, 6)\n",
      "Shape of y_test : (9367, 1)\n"
     ]
    }
   ],
   "source": [
    "print(\"Shape of X_train :\", X_train.shape)\n",
    "print(\"Shape of Y_train :\", y_train.shape)\n",
    "print(\"Shape of X_test :\", X_test.shape)\n",
    "print(\"Shape of y_test :\",y_test.shape)"
   ]
  },
  {
   "cell_type": "code",
   "execution_count": 16,
   "id": "7ba8f157",
   "metadata": {},
   "outputs": [],
   "source": [
    "def linearmodel(X, y, learning_rate, iteration):\n",
    "    \n",
    "    m = y.size\n",
    "    theta = np.zeros((X.shape[1], 1))\n",
    "    cost_list = []\n",
    "    for i in range(iteration):\n",
    "        y_pred = np.dot(X, theta)\n",
    "        cost = (1/(m))*np.sum(np.square(y_pred - y))\n",
    "        d_theta = (1/m)*np.dot(X.T, y_pred - y)\n",
    "        theta = theta - learning_rate*d_theta\n",
    "        cost_list.append(cost)\n",
    "        # to print the cost for 10 times\n",
    "        if(i%(iteration/10) == 0):\n",
    "            print(\"Cost is :\", cost)\n",
    "    return theta, cost_list"
   ]
  },
  {
   "cell_type": "code",
   "execution_count": 146,
   "id": "8065f2e8",
   "metadata": {},
   "outputs": [],
   "source": [
    "def linearmodel(X, y, learning_rate, iteration):\n",
    "    \n",
    "    m = y.size\n",
    "    theta = np.zeros((X.shape[1], 1))\n",
    "    for i in range(iteration):\n",
    "        y_pred = np.dot(X, theta)\n",
    "        cost = (1/(m))*np.sum(np.square(y_pred - y))\n",
    "        d_theta = (1/m)*np.dot(X.T, y_pred - y)\n",
    "        \n",
    "        theta = theta - learning_rate*d_theta\n",
    "    return theta"
   ]
  },
  {
   "cell_type": "code",
   "execution_count": 17,
   "id": "e0d07266",
   "metadata": {
    "scrolled": true
   },
   "outputs": [
    {
     "name": "stdout",
     "output_type": "stream",
     "text": [
      "Cost is : 0.2758921565217158\n",
      "Cost is : 0.00840939372964837\n",
      "Cost is : 0.008352739680506809\n",
      "Cost is : 0.008332387998022914\n",
      "Cost is : 0.008325047064495484\n",
      "Cost is : 0.008322399155480874\n",
      "Cost is : 0.008321444042329509\n",
      "Cost is : 0.008321099528553966\n",
      "Cost is : 0.00832097526082572\n",
      "Cost is : 0.00832093043687562\n"
     ]
    }
   ],
   "source": [
    "iteration = 100000\n",
    "learning_rate = 0.1\n",
    "theta,cost = linearmodel(X_train, y_train, learning_rate = learning_rate, iteration =\n",
    "iteration)"
   ]
  },
  {
   "cell_type": "code",
   "execution_count": 18,
   "id": "ad38239c",
   "metadata": {},
   "outputs": [
    {
     "data": {
      "text/plain": [
       "array([[0.39479447],\n",
       "       [0.4861843 ],\n",
       "       [0.20750508],\n",
       "       ...,\n",
       "       [0.50646739],\n",
       "       [0.46152281],\n",
       "       [0.61703661]])"
      ]
     },
     "execution_count": 18,
     "metadata": {},
     "output_type": "execute_result"
    }
   ],
   "source": [
    "y_pred = np.dot(X_test,theta)\n",
    "y_pred"
   ]
  },
  {
   "cell_type": "code",
   "execution_count": 19,
   "id": "d608449e",
   "metadata": {},
   "outputs": [
    {
     "data": {
      "text/plain": [
       "6.673910453666763"
      ]
     },
     "execution_count": 19,
     "metadata": {},
     "output_type": "execute_result"
    }
   ],
   "source": [
    "#error\n",
    "error = (1/X_test.shape[0])*np.sum(np.abs(y_pred - y_test)) *100\n",
    "error"
   ]
  },
  {
   "cell_type": "code",
   "execution_count": 20,
   "id": "0c0aee6e",
   "metadata": {},
   "outputs": [
    {
     "data": {
      "text/plain": [
       "0.6676779852467887"
      ]
     },
     "execution_count": 20,
     "metadata": {},
     "output_type": "execute_result"
    }
   ],
   "source": [
    "r2_score(y_test,y_pred)"
   ]
  },
  {
   "cell_type": "code",
   "execution_count": 21,
   "id": "27423a62",
   "metadata": {
    "scrolled": true
   },
   "outputs": [],
   "source": [
    "def create_plot(y_test, y_pred, title):    \n",
    "    predictions = y_pred\n",
    "    actual = y_test\n",
    "    plot_df = pd.DataFrame({\"actual\": actual, \"predictions\": predictions})\n",
    "    \n",
    "    plot_df.plot(figsize=(18, 10),title=title)\n",
    "    \n",
    "    return"
   ]
  },
  {
   "cell_type": "code",
   "execution_count": 22,
   "id": "d5e302c3",
   "metadata": {},
   "outputs": [],
   "source": [
    "b = y_pred[900:950].flatten()\n",
    "a = y_test[900:950].flatten()\n"
   ]
  },
  {
   "cell_type": "code",
   "execution_count": 23,
   "id": "bbbd152e",
   "metadata": {},
   "outputs": [
    {
     "data": {
      "image/png": "[encoded data removed]",
      "text/plain": [
       "<Figure size 1296x720 with 1 Axes>"
      ]
     },
     "metadata": {
      "needs_background": "light"
     },
     "output_type": "display_data"
    }
   ],
   "source": [
    "create_plot(a,b,title=\"Testing Data vs Predicted Data\")"
   ]
  },
  {
   "cell_type": "code",
   "execution_count": 149,
   "id": "b778b95a",
   "metadata": {
    "scrolled": true
   },
   "outputs": [
    {
     "name": "stdout",
     "output_type": "stream",
     "text": [
      "Progress: Iteration 1.0\n",
      "Progress: Iteration 2.0\n",
      "Progress: Iteration 3.0\n",
      "Progress: Iteration 4.0\n",
      "Progress: Iteration 5.0\n",
      "Progress: Iteration 1.0\n",
      "Progress: Iteration 2.0\n",
      "Progress: Iteration 3.0\n",
      "Progress: Iteration 4.0\n",
      "Progress: Iteration 5.0\n",
      "Progress: Iteration 1.0\n",
      "Progress: Iteration 2.0\n",
      "Progress: Iteration 3.0\n",
      "Progress: Iteration 4.0\n",
      "Progress: Iteration 5.0\n"
     ]
    },
    {
     "data": {
      "text/html": [
       "<div>\n",
       "<style scoped>\n",
       "    .dataframe tbody tr th:only-of-type {\n",
       "        vertical-align: middle;\n",
       "    }\n",
       "\n",
       "    .dataframe tbody tr th {\n",
       "        vertical-align: top;\n",
       "    }\n",
       "\n",
       "    .dataframe thead th {\n",
       "        text-align: right;\n",
       "    }\n",
       "</style>\n",
       "<table border=\"1\" class=\"dataframe\">\n",
       "  <thead>\n",
       "    <tr style=\"text-align: right;\">\n",
       "      <th></th>\n",
       "      <th>iteration</th>\n",
       "      <th>alpha</th>\n",
       "      <th>error</th>\n",
       "      <th>r_squared</th>\n",
       "    </tr>\n",
       "  </thead>\n",
       "  <tbody>\n",
       "    <tr>\n",
       "      <th>4</th>\n",
       "      <td>50000</td>\n",
       "      <td>0.1</td>\n",
       "      <td>6.671768</td>\n",
       "      <td>0.667639</td>\n",
       "    </tr>\n",
       "    <tr>\n",
       "      <th>3</th>\n",
       "      <td>40000</td>\n",
       "      <td>0.1</td>\n",
       "      <td>6.671274</td>\n",
       "      <td>0.667547</td>\n",
       "    </tr>\n",
       "    <tr>\n",
       "      <th>2</th>\n",
       "      <td>30000</td>\n",
       "      <td>0.1</td>\n",
       "      <td>6.672031</td>\n",
       "      <td>0.667277</td>\n",
       "    </tr>\n",
       "    <tr>\n",
       "      <th>1</th>\n",
       "      <td>20000</td>\n",
       "      <td>0.1</td>\n",
       "      <td>6.677176</td>\n",
       "      <td>0.666501</td>\n",
       "    </tr>\n",
       "    <tr>\n",
       "      <th>0</th>\n",
       "      <td>10000</td>\n",
       "      <td>0.1</td>\n",
       "      <td>6.703318</td>\n",
       "      <td>0.664245</td>\n",
       "    </tr>\n",
       "  </tbody>\n",
       "</table>\n",
       "</div>"
      ],
      "text/plain": [
       "   iteration  alpha     error  r_squared\n",
       "4      50000    0.1  6.671768   0.667639\n",
       "3      40000    0.1  6.671274   0.667547\n",
       "2      30000    0.1  6.672031   0.667277\n",
       "1      20000    0.1  6.677176   0.666501\n",
       "0      10000    0.1  6.703318   0.664245"
      ]
     },
     "execution_count": 149,
     "metadata": {},
     "output_type": "execute_result"
    }
   ],
   "source": [
    "grid_search = {\"iteration\":[],\"alpha\":[],\"error\": [], \"r_squared\": []}\n",
    "alpha = [0.1,0.01,0.01]\n",
    "iterations = [10000,20000,30000,40000,50000]\n",
    "for a in alpha:\n",
    "    for iteration in iterations:\n",
    "        theta = linearmodel(X_train, y_train, learning_rate = a, iteration = iteration)\n",
    "#         print(theta)\n",
    "        y_pred = np.dot(X_test,theta)\n",
    "        error  = error = (1/X_test.shape[0])*np.sum(np.abs(y_pred - y_test)) *100\n",
    "        r_squared = r2_score(y_test,y_pred)\n",
    "        grid_search[\"iteration\"].append(iteration)\n",
    "        grid_search[\"alpha\"].append(a)\n",
    "        grid_search[\"error\"].append(error)\n",
    "        grid_search[\"r_squared\"].append(r_squared)        \n",
    "        print(f\"Progress: Iteration {iteration/10000}\")\n",
    "\n",
    "grid_search = pd.DataFrame(grid_search)\n",
    "grid_search.sort_values(\"r_squared\", ascending=False).head()"
   ]
  },
  {
   "cell_type": "code",
   "execution_count": 151,
   "id": "0dad5e1e",
   "metadata": {},
   "outputs": [
    {
     "data": {
      "text/html": [
       "<div>\n",
       "<style scoped>\n",
       "    .dataframe tbody tr th:only-of-type {\n",
       "        vertical-align: middle;\n",
       "    }\n",
       "\n",
       "    .dataframe tbody tr th {\n",
       "        vertical-align: top;\n",
       "    }\n",
       "\n",
       "    .dataframe thead th {\n",
       "        text-align: right;\n",
       "    }\n",
       "</style>\n",
       "<table border=\"1\" class=\"dataframe\">\n",
       "  <thead>\n",
       "    <tr style=\"text-align: right;\">\n",
       "      <th></th>\n",
       "      <th>iteration</th>\n",
       "      <th>alpha</th>\n",
       "      <th>error</th>\n",
       "      <th>r_squared</th>\n",
       "    </tr>\n",
       "  </thead>\n",
       "  <tbody>\n",
       "    <tr>\n",
       "      <th>0</th>\n",
       "      <td>10000</td>\n",
       "      <td>0.10</td>\n",
       "      <td>6.703318</td>\n",
       "      <td>0.664245</td>\n",
       "    </tr>\n",
       "    <tr>\n",
       "      <th>1</th>\n",
       "      <td>20000</td>\n",
       "      <td>0.10</td>\n",
       "      <td>6.677176</td>\n",
       "      <td>0.666501</td>\n",
       "    </tr>\n",
       "    <tr>\n",
       "      <th>2</th>\n",
       "      <td>30000</td>\n",
       "      <td>0.10</td>\n",
       "      <td>6.672031</td>\n",
       "      <td>0.667277</td>\n",
       "    </tr>\n",
       "    <tr>\n",
       "      <th>3</th>\n",
       "      <td>40000</td>\n",
       "      <td>0.10</td>\n",
       "      <td>6.671274</td>\n",
       "      <td>0.667547</td>\n",
       "    </tr>\n",
       "    <tr>\n",
       "      <th>4</th>\n",
       "      <td>50000</td>\n",
       "      <td>0.10</td>\n",
       "      <td>6.671768</td>\n",
       "      <td>0.667639</td>\n",
       "    </tr>\n",
       "    <tr>\n",
       "      <th>5</th>\n",
       "      <td>10000</td>\n",
       "      <td>0.01</td>\n",
       "      <td>7.286228</td>\n",
       "      <td>0.631868</td>\n",
       "    </tr>\n",
       "    <tr>\n",
       "      <th>6</th>\n",
       "      <td>20000</td>\n",
       "      <td>0.01</td>\n",
       "      <td>7.012285</td>\n",
       "      <td>0.648315</td>\n",
       "    </tr>\n",
       "    <tr>\n",
       "      <th>7</th>\n",
       "      <td>30000</td>\n",
       "      <td>0.01</td>\n",
       "      <td>6.878428</td>\n",
       "      <td>0.655456</td>\n",
       "    </tr>\n",
       "    <tr>\n",
       "      <th>8</th>\n",
       "      <td>40000</td>\n",
       "      <td>0.01</td>\n",
       "      <td>6.807326</td>\n",
       "      <td>0.658943</td>\n",
       "    </tr>\n",
       "    <tr>\n",
       "      <th>9</th>\n",
       "      <td>50000</td>\n",
       "      <td>0.01</td>\n",
       "      <td>6.767260</td>\n",
       "      <td>0.660821</td>\n",
       "    </tr>\n",
       "    <tr>\n",
       "      <th>10</th>\n",
       "      <td>10000</td>\n",
       "      <td>0.01</td>\n",
       "      <td>7.286228</td>\n",
       "      <td>0.631868</td>\n",
       "    </tr>\n",
       "    <tr>\n",
       "      <th>11</th>\n",
       "      <td>20000</td>\n",
       "      <td>0.01</td>\n",
       "      <td>7.012285</td>\n",
       "      <td>0.648315</td>\n",
       "    </tr>\n",
       "    <tr>\n",
       "      <th>12</th>\n",
       "      <td>30000</td>\n",
       "      <td>0.01</td>\n",
       "      <td>6.878428</td>\n",
       "      <td>0.655456</td>\n",
       "    </tr>\n",
       "    <tr>\n",
       "      <th>13</th>\n",
       "      <td>40000</td>\n",
       "      <td>0.01</td>\n",
       "      <td>6.807326</td>\n",
       "      <td>0.658943</td>\n",
       "    </tr>\n",
       "    <tr>\n",
       "      <th>14</th>\n",
       "      <td>50000</td>\n",
       "      <td>0.01</td>\n",
       "      <td>6.767260</td>\n",
       "      <td>0.660821</td>\n",
       "    </tr>\n",
       "  </tbody>\n",
       "</table>\n",
       "</div>"
      ],
      "text/plain": [
       "    iteration  alpha     error  r_squared\n",
       "0       10000   0.10  6.703318   0.664245\n",
       "1       20000   0.10  6.677176   0.666501\n",
       "2       30000   0.10  6.672031   0.667277\n",
       "3       40000   0.10  6.671274   0.667547\n",
       "4       50000   0.10  6.671768   0.667639\n",
       "5       10000   0.01  7.286228   0.631868\n",
       "6       20000   0.01  7.012285   0.648315\n",
       "7       30000   0.01  6.878428   0.655456\n",
       "8       40000   0.01  6.807326   0.658943\n",
       "9       50000   0.01  6.767260   0.660821\n",
       "10      10000   0.01  7.286228   0.631868\n",
       "11      20000   0.01  7.012285   0.648315\n",
       "12      30000   0.01  6.878428   0.655456\n",
       "13      40000   0.01  6.807326   0.658943\n",
       "14      50000   0.01  6.767260   0.660821"
      ]
     },
     "execution_count": 151,
     "metadata": {},
     "output_type": "execute_result"
    }
   ],
   "source": [
    "grid_search"
   ]
  },
  {
   "cell_type": "code",
   "execution_count": 35,
   "id": "0f831c89",
   "metadata": {},
   "outputs": [
    {
     "name": "stdout",
     "output_type": "stream",
     "text": [
      "197\n",
      "166\n",
      "159\n",
      "151\n",
      "201\n",
      "185\n",
      "129\n",
      "218\n",
      "168\n",
      "188\n",
      "132\n",
      "208\n",
      "186\n",
      "128\n",
      "119\n",
      "163\n",
      "173\n",
      "185\n",
      "139\n",
      "148\n",
      "153\n",
      "194\n",
      "81\n",
      "110\n",
      "133\n",
      "161\n",
      "182\n",
      "160\n",
      "188\n",
      "128\n",
      "137\n",
      "224\n",
      "206\n",
      "191\n",
      "164\n",
      "155\n",
      "135\n",
      "164\n",
      "147\n",
      "168\n",
      "129\n",
      "154\n",
      "111\n",
      "171\n",
      "195\n",
      "131\n",
      "148\n",
      "203\n",
      "179\n",
      "169\n",
      "164\n",
      "167\n",
      "158\n",
      "152\n",
      "204\n",
      "195\n",
      "136\n",
      "198\n",
      "166\n",
      "162\n",
      "131\n",
      "192\n",
      "170\n",
      "151\n",
      "140\n",
      "176\n",
      "166\n",
      "187\n",
      "144\n",
      "141\n",
      "143\n",
      "176\n",
      "98\n",
      "130\n",
      "127\n",
      "156\n",
      "171\n",
      "152\n",
      "204\n",
      "128\n",
      "150\n",
      "174\n",
      "200\n",
      "182\n",
      "166\n",
      "163\n",
      "154\n",
      "155\n",
      "146\n",
      "176\n",
      "133\n",
      "146\n",
      "112\n",
      "168\n",
      "183\n",
      "142\n",
      "156\n",
      "182\n",
      "175\n",
      "157\n"
     ]
    }
   ],
   "source": [
    "for i in a:\n",
    "    print(round(int(df['runs_x'].max()-df['runs_x'].min()) * i + df['runs_x'].min()))\n",
    "print(\"anish\")\n",
    "for i in b:\n",
    "    print(round(int(df['runs_x'].max()-df['runs_x'].min()) * i + df['runs_x'].min()))\n",
    "    "
   ]
  },
  {
   "cell_type": "code",
   "execution_count": 150,
   "id": "9b5460a3",
   "metadata": {},
   "outputs": [
    {
     "name": "stdout",
     "output_type": "stream",
     "text": [
      "0.4946308672002518\n",
      "158\n",
      "0.4158973999175466\n",
      "158\n",
      "142\n",
      "0.6412784218955351\n",
      "158\n",
      "142\n",
      "188\n"
     ]
    }
   ],
   "source": [
    "inputs = np.array([[1,0.12941176470588237,0.9183673469387755,0.9,0.3486666666666667,0.4074074074074074],\n",
    "                  [1,0.08627450980392157,0.9183673469387755,0.8,0.29333333333333333,0.2716049382716049],\n",
    "                   [1,0.1607843137254902,0.9183673469387755,1.0,0.5466666666666666,0.5061728395061729]\n",
    "                  ])\n",
    "\n",
    "score = []\n",
    "for input in inputs:\n",
    "    y_pred = np.dot(input, theta)[0]\n",
    "    print(y_pred)\n",
    "    score.append(y_pred)\n",
    "    for i in score:\n",
    "        print(round(int(df['runs_x'].max()-df['runs_x'].min()) * i + df['runs_x'].min())) # 164\n"
   ]
  },
  {
   "cell_type": "code",
   "execution_count": 147,
   "id": "55fb8bfd",
   "metadata": {},
   "outputs": [],
   "source": [
    "def normalize_user_input(cs,bl,wl,crr,lf):\n",
    "    current_score = (cs - df['current_score'].min()) / (df['current_score'].max() - df['current_score'].min())\n",
    "    balls_left = (bl - df['balls_left'].min()) / (df['balls_left'].max() - df['balls_left'].min())\n",
    "    wickets_left = (wl - df['wickets_left'].min()) / (df['wickets_left'].max() - df['wickets_left'].min())\n",
    "    crr = (crr - df['crr'].min()) / (df['crr'].max() - df['crr'].min())\n",
    "    last_five = (lf - df['last_five'].min()) / (df['last_five'].max() - df['last_five'].min())\n",
    "    return current_score,balls_left,wickets_left,crr,last_five"
   ]
  }
 ],
 "metadata": {
  "kernelspec": {
   "display_name": "Python 3 (ipykernel)",
   "language": "python",
   "name": "python3"
  },
  "language_info": {
   "codemirror_mode": {
    "name": "ipython",
    "version": 3
   },
   "file_extension": ".py",
   "mimetype": "text/x-python",
   "name": "python",
   "nbconvert_exporter": "python",
   "pygments_lexer": "ipython3",
   "version": "3.9.8"
  }
 },
 "nbformat": 4,
 "nbformat_minor": 5
}
